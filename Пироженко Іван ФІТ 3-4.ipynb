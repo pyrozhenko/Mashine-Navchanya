{
  "nbformat": 4,
  "nbformat_minor": 0,
  "metadata": {
    "colab": {
      "provenance": [],
      "authorship_tag": "ABX9TyMwdOour6D9CJ7YCehiGA3V",
      "include_colab_link": true
    },
    "kernelspec": {
      "name": "python3",
      "display_name": "Python 3"
    },
    "language_info": {
      "name": "python"
    }
  },
  "cells": [
    {
      "cell_type": "markdown",
      "metadata": {
        "id": "view-in-github",
        "colab_type": "text"
      },
      "source": [
        "<a href=\"https://colab.research.google.com/github/pyrozhenko/Pyrozhenko-Ivan/blob/master/%D0%9F%D0%B8%D1%80%D0%BE%D0%B6%D0%B5%D0%BD%D0%BA%D0%BE%20%D0%86%D0%B2%D0%B0%D0%BD%20%D0%A4%D0%86%D0%A2%203-4.ipynb\" target=\"_parent\"><img src=\"https://colab.research.google.com/assets/colab-badge.svg\" alt=\"Open In Colab\"/></a>"
      ]
    },
    {
      "cell_type": "markdown",
      "source": [
        "Пироженко Іван Варіант 21"
      ],
      "metadata": {
        "id": "ybrduOMZ3YnF"
      }
    },
    {
      "cell_type": "code",
      "source": [
        "#1 завдання Пироженко Іван Варіант 21\n",
        "import numpy as np\n",
        "\n",
        "# Створюємо вектор із зворотніми значеннями натуральних чисел, починаючи з 1\n",
        "n = 10  # Кількість елементів у векторі (за бажанням можна змінити)\n",
        "natural_numbers = np.arange(1, n + 1)\n",
        "inverse_vector = 1 / natural_numbers\n",
        "\n",
        "# Виводимо вектор з оберненими значеннями\n",
        "print(\"Вектор з оберненими значеннями натуральних чисел:\")\n",
        "print(inverse_vector)\n"
      ],
      "metadata": {
        "colab": {
          "base_uri": "https://localhost:8080/"
        },
        "id": "2pxWo4kJzFJy",
        "outputId": "d4868dd3-4e41-4e1e-f5b1-c8c9e487c657"
      },
      "execution_count": 7,
      "outputs": [
        {
          "output_type": "stream",
          "name": "stdout",
          "text": [
            "Вектор з оберненими значеннями натуральних чисел:\n",
            "[1.         0.5        0.33333333 0.25       0.2        0.16666667\n",
            " 0.14285714 0.125      0.11111111 0.1       ]\n"
          ]
        }
      ]
    },
    {
      "cell_type": "code",
      "source": [
        "#2\n",
        "import numpy as np\n",
        "\n",
        "# Створюємо матрицю 3x3 з косинусами натуральних чисел\n",
        "n = 3  # Розмірність матриці (3x3)\n",
        "natural_numbers = np.arange(1, n * n + 1)\n",
        "cosine_matrix = np.cos(natural_numbers).reshape((n, n))\n",
        "\n",
        "# Виводимо матрицю з косинусами\n",
        "print(\"Матриця з косинусами натуральних чисел:\")\n",
        "print(cosine_matrix)\n"
      ],
      "metadata": {
        "colab": {
          "base_uri": "https://localhost:8080/"
        },
        "id": "cTTh1HvjzFUV",
        "outputId": "54fb9e60-f28e-47d0-a27e-16d45ec4819e"
      },
      "execution_count": 6,
      "outputs": [
        {
          "output_type": "stream",
          "name": "stdout",
          "text": [
            "Матриця з косинусами натуральних чисел:\n",
            "[[ 0.54030231 -0.41614684 -0.9899925 ]\n",
            " [-0.65364362  0.28366219  0.96017029]\n",
            " [ 0.75390225 -0.14550003 -0.91113026]]\n"
          ]
        }
      ]
    },
    {
      "cell_type": "code",
      "source": [
        "#3\n",
        "import numpy as np\n",
        "\n",
        "# Створюємо масив розміром 7x7 та заповнюємо його випадковими цілими числами від -50 до 50\n",
        "np.random.seed(0)  # Задаємо seed для відтворюваності результатів\n",
        "matrix = np.random.randint(-50, 51, size=(7, 7))\n",
        "\n",
        "# Знаходимо додатні елементи масиву\n",
        "positive_elements = matrix[matrix > 0]\n",
        "\n",
        "# Знаходимо непарні елементи серед додатніх елементів\n",
        "odd_positive_elements = positive_elements[positive_elements % 2 == 1]\n",
        "\n",
        "# Обчислюємо відсоток непарних чисел серед додатних елементів\n",
        "percentage_odd_positive = (len(odd_positive_elements) / len(positive_elements)) * 100\n",
        "\n",
        "# Виводимо результат\n",
        "print(\"Масив:\")\n",
        "print(matrix)\n",
        "print(\"\\nВідсоток непарних чисел серед додатніх елементів: {:.2f}%\".format(percentage_odd_positive))\n"
      ],
      "metadata": {
        "colab": {
          "base_uri": "https://localhost:8080/"
        },
        "id": "CbQ4o5fXzaRn",
        "outputId": "9ee38087-2b31-47f3-fb8b-859a4a30aafe"
      },
      "execution_count": 8,
      "outputs": [
        {
          "output_type": "stream",
          "name": "stdout",
          "text": [
            "Масив:\n",
            "[[ -6  -3  14  17  17 -41  33]\n",
            " [-29 -14  37  20  38  38 -38]\n",
            " [  8  15 -11  37  -4  38  31]\n",
            " [-13 -25  27  22 -41 -30  30]\n",
            " [ 19  29  -3  14  32  49  38]\n",
            " [ -1 -21 -31 -31 -36 -11 -18]\n",
            " [ 15 -41   7 -18 -19  24 -27]]\n",
            "\n",
            "Відсоток непарних чисел серед додатніх елементів: 52.00%\n"
          ]
        }
      ]
    },
    {
      "cell_type": "code",
      "source": [
        "#4\n",
        "import numpy as np\n",
        "\n",
        "matrix = np.random.uniform(-0.7, 0.7, size=(4, 4))\n",
        "\n",
        "print(\"Масив розміром 4x4 з випадковими дійсними числами:\")\n",
        "print(matrix)\n"
      ],
      "metadata": {
        "colab": {
          "base_uri": "https://localhost:8080/"
        },
        "id": "eyQgYdOPza8m",
        "outputId": "960f48ec-924b-46a2-f495-0837304bf2ba"
      },
      "execution_count": 9,
      "outputs": [
        {
          "output_type": "stream",
          "name": "stdout",
          "text": [
            "Масив розміром 4x4 з випадковими дійсними числами:\n",
            "[[-0.32962214  0.38392717 -0.06138953  0.09580753]\n",
            " [-0.67369428  0.1646897   0.15693401  0.1637076 ]\n",
            " [ 0.62124731  0.25454842 -0.19668894 -0.08815526]\n",
            " [ 0.27668367 -0.61568434  0.2334734   0.23889302]]\n"
          ]
        }
      ]
    },
    {
      "cell_type": "code",
      "source": [
        "#5\n",
        "import numpy as np\n",
        "\n",
        "# Створюємо два масиви розміром 5 і заповнюємо їх випадковими цілими числами в діапазоні від 10 до 20\n",
        "array1 = np.random.randint(10, 21, size=5)\n",
        "array2 = np.random.randint(10, 21, size=5)\n",
        "\n",
        "# Виконуємо поелементні операції додавання, віднімання та множення\n",
        "addition_result = array1 + array2\n",
        "subtraction_result = array1 - array2\n",
        "multiplication_result = array1 * array2\n",
        "\n",
        "# Виводимо результати\n",
        "print(\"Перший масив:\", array1)\n",
        "print(\"Другий масив:\", array2)\n",
        "print(\"Результат додавання:\", addition_result)\n",
        "print(\"Результат віднімання:\", subtraction_result)\n",
        "print(\"Результат множення:\", multiplication_result)\n"
      ],
      "metadata": {
        "colab": {
          "base_uri": "https://localhost:8080/"
        },
        "id": "pHCLoERgza-a",
        "outputId": "666d68c2-fe3b-445a-9f2a-ad74c33c7445"
      },
      "execution_count": 11,
      "outputs": [
        {
          "output_type": "stream",
          "name": "stdout",
          "text": [
            "Перший масив: [12 10 13 15 19]\n",
            "Другий масив: [20 14 14 16 14]\n",
            "Результат додавання: [32 24 27 31 33]\n",
            "Результат віднімання: [-8 -4 -1 -1  5]\n",
            "Результат множення: [240 140 182 240 266]\n"
          ]
        }
      ]
    },
    {
      "cell_type": "code",
      "source": [
        "#6 завдання\n",
        "import numpy as np\n",
        "\n",
        "vector1 = np.array([1.5, 2.0, 3.7, 4.2, 5.1, 6.3])\n",
        "vector2 = np.array([0.8, 2.5, 3.2, 5.0, 6.8, 1.9])\n",
        "\n",
        "scalar_product = np.dot(vector1, vector2)\n",
        "\n",
        "print(scalar_product)\n"
      ],
      "metadata": {
        "colab": {
          "base_uri": "https://localhost:8080/"
        },
        "id": "l_pZBLNwzbAp",
        "outputId": "7ad5c882-1267-4b2c-975d-d185ad409470"
      },
      "execution_count": 10,
      "outputs": [
        {
          "output_type": "stream",
          "name": "stdout",
          "text": [
            "85.69\n"
          ]
        }
      ]
    },
    {
      "cell_type": "code",
      "source": [
        "#7\n",
        "import numpy as np\n",
        "\n",
        "matrix1 = np.random.randint(1, 11, size=(2, 3))\n",
        "matrix2 = np.random.randint(1, 11, size=(3, 3))\n",
        "\n",
        "result_matrix = np.dot(matrix1, matrix2)\n",
        "\n",
        "print(result_matrix)\n"
      ],
      "metadata": {
        "colab": {
          "base_uri": "https://localhost:8080/"
        },
        "id": "lHQlSyH92CVu",
        "outputId": "65f14772-1ef9-4e07-daab-eb7fb9e327b9"
      },
      "execution_count": 12,
      "outputs": [
        {
          "output_type": "stream",
          "name": "stdout",
          "text": [
            "[[ 74  94  58]\n",
            " [104  99  68]]\n"
          ]
        }
      ]
    },
    {
      "cell_type": "code",
      "source": [
        "#8\n",
        "import numpy as np\n",
        "\n",
        "matrix = np.random.randint(1, 13, size=(2, 2))\n",
        "inverse_matrix = np.linalg.inv(matrix)\n",
        "\n",
        "print(matrix)\n",
        "print(\"Обернена матриця:\")\n",
        "print(inverse_matrix)"
      ],
      "metadata": {
        "colab": {
          "base_uri": "https://localhost:8080/"
        },
        "id": "4OSfyA882Hse",
        "outputId": "9004bb48-b6a9-4dc5-d786-693ca3ef51a6"
      },
      "execution_count": 13,
      "outputs": [
        {
          "output_type": "stream",
          "name": "stdout",
          "text": [
            "[[1 6]\n",
            " [1 2]]\n",
            "Обернена матриця:\n",
            "[[-0.5   1.5 ]\n",
            " [ 0.25 -0.25]]\n"
          ]
        }
      ]
    },
    {
      "cell_type": "code",
      "source": [
        "#9\n",
        "import numpy as np\n",
        "\n",
        "matrix = np.random.uniform(0, 1, size=(3, 3))\n",
        "transposed_matrix = np.transpose(matrix)\n",
        "\n",
        "print(matrix)\n",
        "print(\"Транспонована матриця:\")\n",
        "print(transposed_matrix)"
      ],
      "metadata": {
        "colab": {
          "base_uri": "https://localhost:8080/"
        },
        "id": "W5OTAL8z2JAO",
        "outputId": "1454f2b0-fc75-40ce-bb5c-98691dabd1ac"
      },
      "execution_count": 14,
      "outputs": [
        {
          "output_type": "stream",
          "name": "stdout",
          "text": [
            "[[0.83794491 0.09609841 0.97645947]\n",
            " [0.4686512  0.97676109 0.60484552]\n",
            " [0.73926358 0.03918779 0.28280696]]\n",
            "Транспонована матриця:\n",
            "[[0.83794491 0.4686512  0.73926358]\n",
            " [0.09609841 0.97676109 0.03918779]\n",
            " [0.97645947 0.60484552 0.28280696]]\n"
          ]
        }
      ]
    },
    {
      "cell_type": "code",
      "source": [
        "#10\n",
        "import numpy as np\n",
        "\n",
        "# Створюємо матрицю розміром 3x4 і заповнюємо її випадковими цілими числами в діапазоні від 1 до 10\n",
        "matrix = np.random.randint(1, 11, size=(3, 4))\n",
        "\n",
        "# Створюємо вектор розміром 4 і заповнюємо його випадковими дійсними числами від 0 до 1\n",
        "vector = np.random.uniform(0, 1, size=4)\n",
        "\n",
        "# Знаходимо суму добутків елементів кожного рядка матриці на відповідний елемент вектору\n",
        "result = np.sum(matrix * vector, axis=1)\n",
        "\n",
        "print(\"Матриця:\")\n",
        "print(matrix)\n",
        "print(\"Вектор:\")\n",
        "print(vector)\n",
        "print(\"Результат:\")\n",
        "print(result)"
      ],
      "metadata": {
        "colab": {
          "base_uri": "https://localhost:8080/"
        },
        "id": "0QLgh5Py2LHX",
        "outputId": "4bcc43dc-193b-4bcd-c445-af0c71c2fd4c"
      },
      "execution_count": 15,
      "outputs": [
        {
          "output_type": "stream",
          "name": "stdout",
          "text": [
            "Матриця:\n",
            "[[ 8  3 10  3]\n",
            " [ 4  4  3  4]\n",
            " [ 5  2  3 10]]\n",
            "Вектор:\n",
            "[0.92115761 0.08311249 0.27771856 0.0093567 ]\n",
            "Результат:\n",
            "[10.42385409  4.88766291  5.69873577]\n"
          ]
        }
      ]
    },
    {
      "cell_type": "code",
      "source": [
        "#11\n",
        "import numpy as np\n",
        "\n",
        "# Створюємо матрицю розміром 2x3 і заповнюємо її випадковими дійсними числами від 0 до 1\n",
        "matrix = np.random.uniform(0, 1, size=(2, 3))\n",
        "\n",
        "# Створюємо вектор розміром 3 і заповнюємо його випадковими цілими числами від 1 до 10\n",
        "vector = np.random.randint(1, 11, size=3)\n",
        "\n",
        "# Знаходимо добуток матриці на вектор\n",
        "result = np.dot(matrix, vector)\n",
        "\n",
        "print(\"Матриця:\")\n",
        "print(matrix)\n",
        "print(\"Вектор:\")\n",
        "print(vector)\n",
        "print(\"Результат добутку матриці на вектор:\")\n",
        "print(result)"
      ],
      "metadata": {
        "colab": {
          "base_uri": "https://localhost:8080/"
        },
        "id": "9RX-dW2E2Mp2",
        "outputId": "c50b4be8-fa18-4b76-9592-f6e426fbac91"
      },
      "execution_count": 16,
      "outputs": [
        {
          "output_type": "stream",
          "name": "stdout",
          "text": [
            "Матриця:\n",
            "[[0.84234208 0.64717414 0.84138612]\n",
            " [0.26473016 0.39782075 0.55282148]]\n",
            "Вектор:\n",
            "[9 9 3]\n",
            "Результат добутку матриці на вектор:\n",
            "[15.92980434  7.62142269]\n"
          ]
        }
      ]
    },
    {
      "cell_type": "code",
      "source": [
        "#12\n",
        "import numpy as np\n",
        "\n",
        "matrix1 = np.random.randint(1, 11, size=(6, 6))\n",
        "sum_of_elements = np.sum(matrix1)\n",
        "\n",
        "print(sum_of_elements)"
      ],
      "metadata": {
        "colab": {
          "base_uri": "https://localhost:8080/"
        },
        "id": "bw8cUUcV2OVp",
        "outputId": "e367c780-cee3-47d7-d141-fe484371e335"
      },
      "execution_count": 17,
      "outputs": [
        {
          "output_type": "stream",
          "name": "stdout",
          "text": [
            "216\n"
          ]
        }
      ]
    },
    {
      "cell_type": "code",
      "source": [
        "#13\n",
        "import numpy as np\n",
        "\n",
        "matrix1 = np.random.uniform(-2, 2, size=(5, 5))\n",
        "matrix2 = np.random.uniform(-2, 2, size=(5, 5))\n",
        "\n",
        "product_of_elements = np.prod(matrix1) * np.prod(matrix2)\n",
        "\n",
        "print(product_of_elements)"
      ],
      "metadata": {
        "colab": {
          "base_uri": "https://localhost:8080/"
        },
        "id": "Gl-bhvvI2PWN",
        "outputId": "39c5cb51-4437-40ec-d097-1c53587368fc"
      },
      "execution_count": 19,
      "outputs": [
        {
          "output_type": "stream",
          "name": "stdout",
          "text": [
            "9.86788973154936e-06\n"
          ]
        }
      ]
    },
    {
      "cell_type": "code",
      "source": [
        "#14\n",
        "import numpy as np\n",
        "\n",
        "matrix = np.random.uniform(-10, 10, size=(7, 7))\n",
        "min_element = np.min(matrix)\n",
        "\n",
        "print(min_element)"
      ],
      "metadata": {
        "colab": {
          "base_uri": "https://localhost:8080/"
        },
        "id": "oCuo56hP2QMW",
        "outputId": "6556a977-cfa1-4da8-e55b-4b306d721b4f"
      },
      "execution_count": 18,
      "outputs": [
        {
          "output_type": "stream",
          "name": "stdout",
          "text": [
            "-9.76571831629996\n"
          ]
        }
      ]
    },
    {
      "cell_type": "code",
      "source": [
        "#15\n",
        "import numpy as np\n",
        "\n",
        "matrix = np.random.uniform(0, 1, size=(7, 7))\n",
        "column_sums = np.sum(matrix, axis=0)\n",
        "\n",
        "print(column_sums)"
      ],
      "metadata": {
        "colab": {
          "base_uri": "https://localhost:8080/"
        },
        "id": "lT5ZNzZX2REX",
        "outputId": "23e131c3-08d4-4979-e6f2-95f01ca5ba17"
      },
      "execution_count": 20,
      "outputs": [
        {
          "output_type": "stream",
          "name": "stdout",
          "text": [
            "[3.72360449 4.46005694 3.18777343 3.47801056 3.09008593 1.99670706\n",
            " 4.68854037]\n"
          ]
        }
      ]
    }
  ]
}