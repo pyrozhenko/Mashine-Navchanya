{
  "nbformat": 4,
  "nbformat_minor": 0,
  "metadata": {
    "colab": {
      "provenance": [],
      "authorship_tag": "ABX9TyNm3hRt5U2Kn/4m+qFDRUU3",
      "include_colab_link": true
    },
    "kernelspec": {
      "name": "python3",
      "display_name": "Python 3"
    },
    "language_info": {
      "name": "python"
    }
  },
  "cells": [
    {
      "cell_type": "markdown",
      "metadata": {
        "id": "view-in-github",
        "colab_type": "text"
      },
      "source": [
        "<a href=\"https://colab.research.google.com/github/pyrozhenko/Mashine-Navchanya/blob/main/%D0%9F%D0%B8%D1%80%D0%BE%D0%B6%D0%B5%D0%BD%D0%BA%D0%BE%20%D0%86%D0%B2%D0%B0%D0%BD%20%D0%A4%D0%86%D0%A2%204-4%20LAB%203%20ZAVD%202.ipynb\" target=\"_parent\"><img src=\"https://colab.research.google.com/assets/colab-badge.svg\" alt=\"Open In Colab\"/></a>"
      ]
    },
    {
      "cell_type": "code",
      "execution_count": 14,
      "metadata": {
        "colab": {
          "base_uri": "https://localhost:8080/"
        },
        "id": "NFGAEAavGS5q",
        "outputId": "7318946e-4685-4bf4-be8d-360b6a2b15e0"
      },
      "outputs": [
        {
          "output_type": "stream",
          "name": "stdout",
          "text": [
            "Розмір датасету: (550, 7)\n",
            "Кількість книг у датасеті: 550\n",
            "Кількість пропусків у кожному стовпчику:\n",
            "name           0\n",
            "author         0\n",
            "user_rating    0\n",
            "reviews        0\n",
            "price          0\n",
            "year           0\n",
            "genre          0\n",
            "dtype: int64\n",
            "Чи є пропуски в змінних? Відповідь: False\n",
            "Унікальні жанри: ['Non Fiction' 'Fiction']\n",
            "Максимальна ціна: 105\n",
            "Мінімальна ціна: 0\n",
            "Середня ціна: 13.1\n",
            "Медіанна ціна: 11.0\n",
            "Рейтинг з найвищим значенням: 4.9\n",
            "Кількість книг з таким рейтингом: 52\n",
            "Книга з найбільшою кількістю відгуків: Where the Crawdads Sing\n",
            "Найдорожча книга серед книг, що потрапили до Топ-50 у 2010 році: Publication Manual of the American Psychological Association, 6th Edition\n",
            "Кількість книг жанру Fiction, що потрапили до Топ-50 у 2012 році: 21\n",
            "Кількість книг з рейтингом 4.9, що потрапили до рейтингу у 2010 та 2011 роках: 1\n",
            "Максимальна та мінімальна ціна для жанру Fiction і NonFiction:\n",
            "             max  min\n",
            "genre                \n",
            "Fiction       82    0\n",
            "Non Fiction  105    0\n"
          ]
        }
      ],
      "source": [
        "import pandas as pd\n",
        "import matplotlib.pyplot as plt\n",
        "# Завдання 1: Прочитайте CSV файл та виведіть перші 10 рядків\n",
        "df = pd.read_csv('bestsellers_with_categories.csv')\n",
        "\n",
        "# Завдання 2: Виведіть розміри датасету та відповідь на питання\n",
        "print(\"Розмір датасету:\", df.shape)\n",
        "print(\"Кількість книг у датасеті:\", df.shape[0])\n",
        "\n",
        "# Завдання 3: Змініть назви стовпців\n",
        "df.columns = ['name', 'author', 'user_rating', 'reviews', 'price', 'year', 'genre']\n",
        "\n",
        "# Завдання 4: Вивести кількість пропусків у кожному стовпчику та відповідь на питання\n",
        "missing_values = df.isna().sum()\n",
        "print(\"Кількість пропусків у кожному стовпчику:\")\n",
        "print(missing_values)\n",
        "print(\"Чи є пропуски в змінних? Відповідь:\", any(missing_values > 0))\n",
        "\n",
        "# Завдання 5: Знайдіть унікальні жанри\n",
        "unique_genres = df['genre'].unique()\n",
        "print(\"Унікальні жанри:\", unique_genres)\n",
        "\n",
        "# Завдання 6: Визначте максимальну, мінімальну, медіанну ціну та відповіді на питання\n",
        "max_price = df['price'].max()\n",
        "min_price = df['price'].min()\n",
        "mean_price = df['price'].mean()\n",
        "median_price = df['price'].median()\n",
        "\n",
        "print(\"Максимальна ціна:\", max_price)\n",
        "print(\"Мінімальна ціна:\", min_price)\n",
        "print(\"Середня ціна:\", mean_price)\n",
        "print(\"Медіанна ціна:\", median_price)\n",
        "\n",
        "# Завдання 7: Знайдіть рейтинг з найвищим значенням та кількість книг з таким рейтингом\n",
        "max_rating = df['user_rating'].max()\n",
        "books_with_max_rating = df[df['user_rating'] == max_rating]\n",
        "num_books_with_max_rating = books_with_max_rating.shape[0]\n",
        "print(\"Рейтинг з найвищим значенням:\", max_rating)\n",
        "print(\"Кількість книг з таким рейтингом:\", num_books_with_max_rating)\n",
        "\n",
        "# Завдання 8: Знайдіть книгу з найбільшою кількістю відгуків\n",
        "max_reviews_book = df[df['reviews'] == df['reviews'].max()]['name'].values[0]\n",
        "print(\"Книга з найбільшою кількістю відгуків:\", max_reviews_book)\n",
        "\n",
        "# Завдання 9: Знайдіть найдорожчу книгу серед книг, що потрапили до Топ-50 у 2010 році\n",
        "max_price_2010 = df[(df['year'] == 2010)]['price'].max()\n",
        "most_expensive_2010 = df[(df['year'] == 2010) & (df['price'] == max_price_2010)]['name'].values[0]\n",
        "print(\"Найдорожча книга серед книг, що потрапили до Топ-50 у 2010 році:\", most_expensive_2010)\n",
        "\n",
        "# Завдання 10: Знайдіть кількість книг жанру Fiction, що потрапили до Топ-50 у 2012 році\n",
        "num_fiction_2012 = df[(df['year'] == 2012) & (df['genre'] == 'Fiction')].shape[0]\n",
        "print(\"Кількість книг жанру Fiction, що потрапили до Топ-50 у 2012 році:\", num_fiction_2012)\n",
        "\n",
        "# Завдання 11: Знайдіть кількість книг з рейтингом 4.9, що потрапили до рейтингу у 2010 та 2011 роках\n",
        "num_books_with_rating_4_9 = df[(df['user_rating'] == 4.9) & (df['year'].isin([2010, 2011]))].shape[0]\n",
        "print(\"Кількість книг з рейтингом 4.9, що потрапили до рейтингу у 2010 та 2011 роках:\", num_books_with_rating_4_9)\n",
        "\n",
        "# Завдання 12: Вивести максимальну і мінімальну ціну для жанру Fiction і NonFiction\n",
        "result = df.groupby('genre')['price'].agg(['max', 'min'])\n",
        "print(\"Максимальна та мінімальна ціна для жанру Fiction і NonFiction:\")\n",
        "print(result)\n"
      ]
    },
    {
      "cell_type": "code",
      "source": [],
      "metadata": {
        "id": "pb-gVLX4NoAM"
      },
      "execution_count": null,
      "outputs": []
    }
  ]
}