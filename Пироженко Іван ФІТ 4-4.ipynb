{
  "nbformat": 4,
  "nbformat_minor": 0,
  "metadata": {
    "colab": {
      "provenance": [],
      "authorship_tag": "ABX9TyMNE5z1RzFZbrrDf96aYErj",
      "include_colab_link": true
    },
    "kernelspec": {
      "name": "python3",
      "display_name": "Python 3"
    },
    "language_info": {
      "name": "python"
    }
  },
  "cells": [
    {
      "cell_type": "markdown",
      "metadata": {
        "id": "view-in-github",
        "colab_type": "text"
      },
      "source": [
        "<a href=\"https://colab.research.google.com/github/pyrozhenko/Mashine-Navchanya/blob/main/%D0%9F%D0%B8%D1%80%D0%BE%D0%B6%D0%B5%D0%BD%D0%BA%D0%BE%20%D0%86%D0%B2%D0%B0%D0%BD%20%D0%A4%D0%86%D0%A2%204-4.ipynb\" target=\"_parent\"><img src=\"https://colab.research.google.com/assets/colab-badge.svg\" alt=\"Open In Colab\"/></a>"
      ]
    },
    {
      "cell_type": "code",
      "execution_count": 12,
      "metadata": {
        "colab": {
          "base_uri": "https://localhost:8080/",
          "height": 1000
        },
        "id": "NFGAEAavGS5q",
        "outputId": "ea3815bc-543a-417c-f1d4-9e48559cd1bd"
      },
      "outputs": [
        {
          "output_type": "stream",
          "name": "stdout",
          "text": [
            "   rank                    Youtuber  subscribers    Unnamed: 3  \\\n",
            "0     1                    T-Series    245000000  2.280000e+11   \n",
            "1     2              YouTube Movies    170000000  0.000000e+00   \n",
            "2     3                     MrBeast    166000000  2.836884e+10   \n",
            "3     4  Cocomelon - Nursery Rhymes    162000000  1.640000e+11   \n",
            "4     5                   SET India    159000000  1.480000e+11   \n",
            "\n",
            "               Type                       Title  Uploads        Country  \\\n",
            "0             Music                    T-Series    20082          India   \n",
            "1  Film & Animation               youtubemovies        1  United States   \n",
            "2     Entertainment                     MrBeast      741  United States   \n",
            "3         Education  Cocomelon - Nursery Rhymes      966  United States   \n",
            "4             Shows                   SET India   116536          India   \n",
            "\n",
            "  Abbreviation   channel_type  ...  subscribers_for_last_30_days  \\\n",
            "0           IN          Music  ...                     2000000.0   \n",
            "1           US          Games  ...                           NaN   \n",
            "2           US  Entertainment  ...                     8000000.0   \n",
            "3           US      Education  ...                     1000000.0   \n",
            "4           IN  Entertainment  ...                     1000000.0   \n",
            "\n",
            "   created_year  created_month  created_date  \\\n",
            "0        2006.0            Mar          13.0   \n",
            "1        2006.0            Mar           5.0   \n",
            "2        2012.0            Feb          20.0   \n",
            "3        2006.0            Sep           1.0   \n",
            "4        2006.0            Sep          20.0   \n",
            "\n",
            "   Gross tertiary education enrollment (%)    Population  Unemployment rate  \\\n",
            "0                                     28.1  1.366418e+09               5.36   \n",
            "1                                     88.2  3.282395e+08              14.70   \n",
            "2                                     88.2  3.282395e+08              14.70   \n",
            "3                                     88.2  3.282395e+08              14.70   \n",
            "4                                     28.1  1.366418e+09               5.36   \n",
            "\n",
            "   Urban_population   Latitude  Longitude  \n",
            "0       471031528.0  20.593684  78.962880  \n",
            "1       270663028.0  37.090240 -95.712891  \n",
            "2       270663028.0  37.090240 -95.712891  \n",
            "3       270663028.0  37.090240 -95.712891  \n",
            "4       471031528.0  20.593684  78.962880  \n",
            "\n",
            "[5 rows x 28 columns]\n",
            "Розміри датасету: (995, 28)\n",
            "Кількість пропусків у кожному стовпці:\n",
            "rank                                         0\n",
            "Youtuber                                     0\n",
            "subscribers                                  0\n",
            "Unnamed: 3                                   0\n",
            "Type                                        46\n",
            "Title                                        0\n",
            "Uploads                                      0\n",
            "Country                                    122\n",
            "Abbreviation                               122\n",
            "channel_type                                30\n",
            "video_views_rank                             1\n",
            "country_rank                               116\n",
            "channel_type_rank                           33\n",
            "Views                                       56\n",
            "lowest_monthly_earnings                      0\n",
            "highest_monthly_earnings                     0\n",
            "lowest_yearly_earnings                       0\n",
            "highest_yearly_earnings                      0\n",
            "subscribers_for_last_30_days               337\n",
            "created_year                                 5\n",
            "created_month                                5\n",
            "created_date                                 5\n",
            "Gross tertiary education enrollment (%)    123\n",
            "Population                                 123\n",
            "Unemployment rate                          123\n",
            "Urban_population                           123\n",
            "Latitude                                   123\n",
            "Longitude                                  123\n",
            "dtype: int64\n",
            "Кількість пропусків після заміни:\n",
            "rank                                         0\n",
            "Youtuber                                     0\n",
            "subscribers                                  0\n",
            "Unnamed: 3                                   0\n",
            "Type                                        46\n",
            "Title                                        0\n",
            "Uploads                                      0\n",
            "Country                                    122\n",
            "Abbreviation                               122\n",
            "channel_type                                30\n",
            "video_views_rank                             0\n",
            "country_rank                                 0\n",
            "channel_type_rank                            0\n",
            "Views                                        0\n",
            "lowest_monthly_earnings                      0\n",
            "highest_monthly_earnings                     0\n",
            "lowest_yearly_earnings                       0\n",
            "highest_yearly_earnings                      0\n",
            "subscribers_for_last_30_days                 0\n",
            "created_year                                 0\n",
            "created_month                                5\n",
            "created_date                                 0\n",
            "Gross tertiary education enrollment (%)      0\n",
            "Population                                   0\n",
            "Unemployment rate                            0\n",
            "Urban_population                             0\n",
            "Latitude                                     0\n",
            "Longitude                                    0\n",
            "dtype: int64\n",
            "Унікальних країн: 49\n"
          ]
        },
        {
          "output_type": "stream",
          "name": "stderr",
          "text": [
            "<ipython-input-12-85eb4503746e>:20: FutureWarning: The default value of numeric_only in DataFrame.mean is deprecated. In a future version, it will default to False. In addition, specifying 'numeric_only=None' is deprecated. Select only valid columns or specify the value of numeric_only to silence this warning.\n",
            "  data.fillna(data.mean(), inplace=True)\n",
            "<ipython-input-12-85eb4503746e>:32: FutureWarning: The default value of numeric_only in DataFrame.mean is deprecated. In a future version, it will default to False. In addition, specifying 'numeric_only=None' is deprecated. Select only valid columns or specify the value of numeric_only to silence this warning.\n",
            "  data.fillna(data.mean(), inplace=True)\n"
          ]
        },
        {
          "output_type": "display_data",
          "data": {
            "text/plain": [
              "<Figure size 640x480 with 1 Axes>"
            ],
            "image/png": "[encoded data removed]"
          },
          "metadata": {}
        },
        {
          "output_type": "stream",
          "name": "stdout",
          "text": [
            "Максимальна кількість переглядів: 6589000000.0\n",
            "Мінімальна кількість переглядів: 1.0\n",
            "Середня кількість переглядів: 175610284.79446217\n",
            "Країна з найбільшою кількістю завантажених відео: United States\n",
            "Відео з найбільшою кількістю завантажень: ABP NEWS\n",
            "Відео з найменшою кількістю завантажень: Music\n"
          ]
        }
      ],
      "source": [
        "import pandas as pd\n",
        "import matplotlib.pyplot as plt\n",
        "import numpy as np\n",
        "\n",
        "# Завдання 1: Прочитайте CSV файл\n",
        "data = pd.read_csv('GlobalYouTubeStatistics2023.csv', encoding='cp1251')\n",
        "\n",
        "# Завдання 2: Виведіть перші п'ять рядків\n",
        "print(data.head())\n",
        "\n",
        "# Завдання 3: Виведіть розміри датасету\n",
        "print(\"Розміри датасету:\", data.shape)\n",
        "\n",
        "# Завдання 4: Перевірте наявність пропусків та замініть їх на NaN\n",
        "missing_values = data.isna().sum()\n",
        "print(\"Кількість пропусків у кожному стовпці:\")\n",
        "print(missing_values)\n",
        "\n",
        "# Заміна комірок з пропущеними значеннями на середні за стовпцем та тип даних на float\n",
        "data.fillna(data.mean(), inplace=True)\n",
        "\n",
        "# Завдання 6: Перевірте кількість пропусків після заміни\n",
        "missing_values_after_fillna = data.isna().sum()\n",
        "print(\"Кількість пропусків після заміни:\")\n",
        "print(missing_values_after_fillna)\n",
        "\n",
        "# Завдання 7: Перевірте, скільки унікальних країн представлено у колонці \"Country\"\n",
        "unique_countries = data['Country'].nunique()\n",
        "print(\"Унікальних країн:\", unique_countries)\n",
        "\n",
        "# Заміна комірок з пропущеними значеннями на середні за стовпцем та тип даних на float\n",
        "data.fillna(data.mean(), inplace=True)\n",
        "\n",
        "# Завдання 8: Побудуйте діаграму розподілу переглядів\n",
        "plt.hist(data['Views'], bins=20, edgecolor='k')\n",
        "plt.title('Розподіл переглядів')\n",
        "plt.xlabel('Кількість переглядів')\n",
        "plt.ylabel('Частота')\n",
        "plt.show()\n",
        "\n",
        "\n",
        "# Завдання 9: Визначте максимальну, мінімальну та середню кількість переглядів\n",
        "max_views = data['Views'].max()\n",
        "min_views = data['Views'].min()\n",
        "mean_views = data['Views'].mean()\n",
        "print(\"Максимальна кількість переглядів:\", max_views)\n",
        "print(\"Мінімальна кількість переглядів:\", min_views)\n",
        "print(\"Середня кількість переглядів:\", mean_views)\n",
        "\n",
        "\n",
        "# Завдання 10: Знайдіть країну, де найбільше відео було завантажено на YouTube\n",
        "most_videos_country = data['Country'].value_counts().idxmax()\n",
        "print(\"Країна з найбільшою кількістю завантажених відео:\", most_videos_country)\n",
        "\n",
        "# Завдання 11: Знайдіть відео з найбільшою та найменшою кількістю завантажень uploads\n",
        "max_uploads_video = data[data['Uploads'] == data['Uploads'].max()]['Title'].values[0]\n",
        "min_uploads_video = data[data['Uploads'] == data['Uploads'].min()]['Title'].values[0]\n",
        "print(\"Відео з найбільшою кількістю завантажень:\", max_uploads_video)\n",
        "print(\"Відео з найменшою кількістю завантажень:\", min_uploads_video)\n"
      ]
    },
    {
      "cell_type": "code",
      "source": [],
      "metadata": {
        "id": "Cuj1hCVPKgnJ"
      },
      "execution_count": null,
      "outputs": []
    }
  ]
}