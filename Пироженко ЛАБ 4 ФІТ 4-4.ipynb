{
  "cells": [
    {
      "cell_type": "markdown",
      "metadata": {
        "id": "view-in-github",
        "colab_type": "text"
      },
      "source": [
        "<a href=\"https://colab.research.google.com/github/pyrozhenko/Mashine-Navchanya/blob/main/%D0%9F%D0%B8%D1%80%D0%BE%D0%B6%D0%B5%D0%BD%D0%BA%D0%BE%20%D0%9B%D0%90%D0%91%204%20%D0%A4%D0%86%D0%A2%204-4.ipynb\" target=\"_parent\"><img src=\"https://colab.research.google.com/assets/colab-badge.svg\" alt=\"Open In Colab\"/></a>"
      ]
    },
    {
      "cell_type": "code",
      "source": [
        "# Імпорт необхідних бібліотек\n",
        "import pandas as pd\n",
        "from sklearn.model_selection import train_test_split\n",
        "from sklearn.linear_model import LinearRegression\n",
        "from sklearn.metrics import mean_squared_error, r2_score\n",
        "from sklearn.preprocessing import StandardScaler\n",
        "from sklearn.model_selection import cross_val_score\n",
        "\n",
        "# Крок 1: Завантаження файлу та виведення перших 5 рядків\n",
        "data = pd.read_csv('Housing.csv')\n",
        "print(data.head())"
      ],
      "metadata": {
        "id": "5aq9NO0m2xA1",
        "outputId": "3fa23828-afe1-4ce8-b9ef-f460a70fa06a",
        "colab": {
          "base_uri": "https://localhost:8080/"
        }
      },
      "execution_count": 56,
      "outputs": [
        {
          "output_type": "stream",
          "name": "stdout",
          "text": [
            "      price  area  bedrooms  bathrooms  stories mainroad guestroom basement  \\\n",
            "0  13300000  7420         4          2        3      yes        no       no   \n",
            "1  12250000  8960         4          4        4      yes        no       no   \n",
            "2  12250000  9960         3          2        2      yes        no      yes   \n",
            "3  12215000  7500         4          2        2      yes        no      yes   \n",
            "4  11410000  7420         4          1        2      yes       yes      yes   \n",
            "\n",
            "  hotwaterheating airconditioning  parking prefarea furnishingstatus  \n",
            "0              no             yes        2      yes        furnished  \n",
            "1              no             yes        3       no        furnished  \n",
            "2              no              no        2      yes   semi-furnished  \n",
            "3              no             yes        3      yes        furnished  \n",
            "4              no             yes        2       no        furnished  \n"
          ]
        }
      ]
    },
    {
      "cell_type": "code",
      "source": [
        "# Крок 2: Створення нового датасету з обраними стовпчиками\n",
        "columns = ['price', 'area', 'bedrooms', 'bathrooms']\n",
        "new_data = data[columns]"
      ],
      "metadata": {
        "id": "WQUODvVx20hW"
      },
      "execution_count": 57,
      "outputs": []
    },
    {
      "cell_type": "code",
      "source": [
        "# Крок 3: Попередній аналіз даних\n",
        "# Заміна \"-\" на NaN\n",
        "new_data.replace('-', pd.NA, inplace=True)"
      ],
      "metadata": {
        "id": "S0-L7XVc23vu",
        "outputId": "790f8afb-0071-414e-85d5-0fa2d91d6b37",
        "colab": {
          "base_uri": "https://localhost:8080/"
        }
      },
      "execution_count": 58,
      "outputs": [
        {
          "output_type": "stream",
          "name": "stderr",
          "text": [
            "<ipython-input-58-89bbedd319d5>:3: SettingWithCopyWarning: \n",
            "A value is trying to be set on a copy of a slice from a DataFrame\n",
            "\n",
            "See the caveats in the documentation: https://pandas.pydata.org/pandas-docs/stable/user_guide/indexing.html#returning-a-view-versus-a-copy\n",
            "  new_data.replace('-', pd.NA, inplace=True)\n"
          ]
        }
      ]
    },
    {
      "cell_type": "code",
      "source": [
        "# Зміна типу даних на float\n",
        "new_data = new_data.astype(float)"
      ],
      "metadata": {
        "id": "cu-yXL8027GB"
      },
      "execution_count": 59,
      "outputs": []
    },
    {
      "cell_type": "code",
      "source": [
        "# Заміна відсутніх значень середнім\n",
        "new_data.fillna(new_data.mean(), inplace=True)\n"
      ],
      "metadata": {
        "id": "hmQJRQb329cX"
      },
      "execution_count": 60,
      "outputs": []
    },
    {
      "cell_type": "code",
      "source": [
        "# Крок 5: Розділення даних на навчальний та тестовий набори\n",
        "from sklearn.model_selection import train_test_split\n",
        "\n",
        "# Визначте X та y\n",
        "X = normalized_data[:, 1:]  # всі стовпці, крім першого\n",
        "y = normalized_data[:, 0]   # перший стовпець\n",
        "\n",
        "# Розділення на навчальний та тестовий набори\n",
        "X_train, X_test, y_train, y_test = train_test_split(X, y, test_size=0.2, random_state=42)"
      ],
      "metadata": {
        "id": "IbUgUOpn4fOx"
      },
      "execution_count": 61,
      "outputs": []
    },
    {
      "cell_type": "code",
      "source": [
        "# Крок 6: Вибір атрибутів та цільової змінної\n",
        "# Вибір атрибутів\n",
        "X_train_attributes = X_train  # Використовуйте всі атрибути або виберіть конкретні стовпці\n",
        "\n",
        "# Вибір цільової змінної\n",
        "y_train_target = y_train  # Використовуйте ціни на будинки як цільову змінну\n"
      ],
      "metadata": {
        "id": "yGK_jvWm45wf"
      },
      "execution_count": 63,
      "outputs": []
    },
    {
      "cell_type": "code",
      "source": [
        "# Крок 7: Побудова та навчання моделі лінійної регресії\n",
        "model = LinearRegression()\n",
        "model.fit(X_train, y_train)"
      ],
      "metadata": {
        "id": "1Ljlsx4C5FwY",
        "outputId": "1031fa70-c438-416f-f060-13620afb09fe",
        "colab": {
          "base_uri": "https://localhost:8080/",
          "height": 75
        }
      },
      "execution_count": 64,
      "outputs": [
        {
          "output_type": "execute_result",
          "data": {
            "text/plain": [
              "LinearRegression()"
            ],
            "text/html": [
              "<style>#sk-container-id-3 {color: black;background-color: white;}#sk-container-id-3 pre{padding: 0;}#sk-container-id-3 div.sk-toggleable {background-color: white;}#sk-container-id-3 label.sk-toggleable__label {cursor: pointer;display: block;width: 100%;margin-bottom: 0;padding: 0.3em;box-sizing: border-box;text-align: center;}#sk-container-id-3 label.sk-toggleable__label-arrow:before {content: \"▸\";float: left;margin-right: 0.25em;color: #696969;}#sk-container-id-3 label.sk-toggleable__label-arrow:hover:before {color: black;}#sk-container-id-3 div.sk-estimator:hover label.sk-toggleable__label-arrow:before {color: black;}#sk-container-id-3 div.sk-toggleable__content {max-height: 0;max-width: 0;overflow: hidden;text-align: left;background-color: #f0f8ff;}#sk-container-id-3 div.sk-toggleable__content pre {margin: 0.2em;color: black;border-radius: 0.25em;background-color: #f0f8ff;}#sk-container-id-3 input.sk-toggleable__control:checked~div.sk-toggleable__content {max-height: 200px;max-width: 100%;overflow: auto;}#sk-container-id-3 input.sk-toggleable__control:checked~label.sk-toggleable__label-arrow:before {content: \"▾\";}#sk-container-id-3 div.sk-estimator input.sk-toggleable__control:checked~label.sk-toggleable__label {background-color: #d4ebff;}#sk-container-id-3 div.sk-label input.sk-toggleable__control:checked~label.sk-toggleable__label {background-color: #d4ebff;}#sk-container-id-3 input.sk-hidden--visually {border: 0;clip: rect(1px 1px 1px 1px);clip: rect(1px, 1px, 1px, 1px);height: 1px;margin: -1px;overflow: hidden;padding: 0;position: absolute;width: 1px;}#sk-container-id-3 div.sk-estimator {font-family: monospace;background-color: #f0f8ff;border: 1px dotted black;border-radius: 0.25em;box-sizing: border-box;margin-bottom: 0.5em;}#sk-container-id-3 div.sk-estimator:hover {background-color: #d4ebff;}#sk-container-id-3 div.sk-parallel-item::after {content: \"\";width: 100%;border-bottom: 1px solid gray;flex-grow: 1;}#sk-container-id-3 div.sk-label:hover label.sk-toggleable__label {background-color: #d4ebff;}#sk-container-id-3 div.sk-serial::before {content: \"\";position: absolute;border-left: 1px solid gray;box-sizing: border-box;top: 0;bottom: 0;left: 50%;z-index: 0;}#sk-container-id-3 div.sk-serial {display: flex;flex-direction: column;align-items: center;background-color: white;padding-right: 0.2em;padding-left: 0.2em;position: relative;}#sk-container-id-3 div.sk-item {position: relative;z-index: 1;}#sk-container-id-3 div.sk-parallel {display: flex;align-items: stretch;justify-content: center;background-color: white;position: relative;}#sk-container-id-3 div.sk-item::before, #sk-container-id-3 div.sk-parallel-item::before {content: \"\";position: absolute;border-left: 1px solid gray;box-sizing: border-box;top: 0;bottom: 0;left: 50%;z-index: -1;}#sk-container-id-3 div.sk-parallel-item {display: flex;flex-direction: column;z-index: 1;position: relative;background-color: white;}#sk-container-id-3 div.sk-parallel-item:first-child::after {align-self: flex-end;width: 50%;}#sk-container-id-3 div.sk-parallel-item:last-child::after {align-self: flex-start;width: 50%;}#sk-container-id-3 div.sk-parallel-item:only-child::after {width: 0;}#sk-container-id-3 div.sk-dashed-wrapped {border: 1px dashed gray;margin: 0 0.4em 0.5em 0.4em;box-sizing: border-box;padding-bottom: 0.4em;background-color: white;}#sk-container-id-3 div.sk-label label {font-family: monospace;font-weight: bold;display: inline-block;line-height: 1.2em;}#sk-container-id-3 div.sk-label-container {text-align: center;}#sk-container-id-3 div.sk-container {/* jupyter's `normalize.less` sets `[hidden] { display: none; }` but bootstrap.min.css set `[hidden] { display: none !important; }` so we also need the `!important` here to be able to override the default hidden behavior on the sphinx rendered scikit-learn.org. See: https://github.com/scikit-learn/scikit-learn/issues/21755 */display: inline-block !important;position: relative;}#sk-container-id-3 div.sk-text-repr-fallback {display: none;}</style><div id=\"sk-container-id-3\" class=\"sk-top-container\"><div class=\"sk-text-repr-fallback\"><pre>LinearRegression()</pre><b>In a Jupyter environment, please rerun this cell to show the HTML representation or trust the notebook. <br />On GitHub, the HTML representation is unable to render, please try loading this page with nbviewer.org.</b></div><div class=\"sk-container\" hidden><div class=\"sk-item\"><div class=\"sk-estimator sk-toggleable\"><input class=\"sk-toggleable__control sk-hidden--visually\" id=\"sk-estimator-id-3\" type=\"checkbox\" checked><label for=\"sk-estimator-id-3\" class=\"sk-toggleable__label sk-toggleable__label-arrow\">LinearRegression</label><div class=\"sk-toggleable__content\"><pre>LinearRegression()</pre></div></div></div></div></div>"
            ]
          },
          "metadata": {},
          "execution_count": 64
        }
      ]
    },
    {
      "cell_type": "code",
      "source": [
        "# Крок 8: Оцінка якості моделі на тестових даних\n",
        "y_pred = model.predict(X_test)\n",
        "rmse = mean_squared_error(y_test, y_pred, squared=False)\n",
        "r2 = r2_score(y_test, y_pred)\n",
        "print(f'RMSE: {rmse}')\n",
        "print(f'R^2: {r2}')\n"
      ],
      "metadata": {
        "id": "oVxlbWUD5KJZ",
        "outputId": "65a81ff4-a03c-490a-aac1-9eeebed19340",
        "colab": {
          "base_uri": "https://localhost:8080/"
        }
      },
      "execution_count": 69,
      "outputs": [
        {
          "output_type": "stream",
          "name": "stdout",
          "text": [
            "RMSE: 0.9189337083043986\n",
            "R^2: 0.03478945346736284\n"
          ]
        }
      ]
    },
    {
      "cell_type": "code",
      "source": [
        "# Крок 9: Крос-валідація\n",
        "from sklearn.model_selection import cross_val_score\n",
        "\n",
        "cv_scores = cross_val_score(model, X, y, cv=5, scoring='r2')\n",
        "print(f'Cross-validated R^2 scores: {cv_scores}')"
      ],
      "metadata": {
        "id": "a_pH9sKF5M_E",
        "outputId": "c0e52032-dca1-48f9-a72c-35019a8db0dc",
        "colab": {
          "base_uri": "https://localhost:8080/"
        }
      },
      "execution_count": 66,
      "outputs": [
        {
          "output_type": "stream",
          "name": "stdout",
          "text": [
            "Cross-validated R^2 scores: [-0.98684162 -0.4337402  -0.22139982 -0.40105317 -1.21135893]\n"
          ]
        }
      ]
    },
    {
      "cell_type": "code",
      "source": [
        "# Частина 2: Знайдення параметрів аналітичним рішенням\n",
        "\n",
        "\n",
        "# Додаємо стовпець одиниць для intercept'а\n",
        "X_train_with_intercept = np.c_[np.ones(X_train.shape[0]), X_train]\n",
        "analytical_solution = np.linalg.inv(X_train_with_intercept.T @ X_train_with_intercept) @ (X_train_with_intercept.T @ y_train)\n",
        "\n",
        "# Виведення коефіцієнтів лінійної регресії\n",
        "print('Коефіцієнти лінійної регресії (аналітичний метод):')\n",
        "print(analytical_solution)\n",
        "\n"
      ],
      "metadata": {
        "id": "EcpHgkGv5Ob1",
        "outputId": "d05a8a12-545c-4a80-b935-84a7e4d10139",
        "colab": {
          "base_uri": "https://localhost:8080/"
        }
      },
      "execution_count": 67,
      "outputs": [
        {
          "output_type": "stream",
          "name": "stdout",
          "text": [
            "Коефіцієнти лінійної регресії (аналітичний метод):\n",
            "[0.00949143 0.09080173 0.17506919]\n"
          ]
        }
      ]
    },
    {
      "cell_type": "code",
      "source": [
        "# Частина 3: Візуалізація результатів\n",
        "import matplotlib.pyplot as plt\n",
        "\n",
        "# Візуалізація розподілу даних\n",
        "plt.scatter(X_test[:, 0], y_test, color='black', label='Тестові дані')  # Припустимо, що 'area' - перший стовпець\n",
        "plt.scatter(X_test[:, 0], y_pred, color='blue', linewidth=3, label='Прогнозовані дані')\n",
        "plt.xlabel('Площа')\n",
        "plt.ylabel('Ціна')\n",
        "plt.legend()\n",
        "plt.show()\n"
      ],
      "metadata": {
        "id": "71AN0NaV5jaz",
        "outputId": "fc8da220-36e6-4b62-9d8e-75bd7dc68ba2",
        "colab": {
          "base_uri": "https://localhost:8080/",
          "height": 449
        }
      },
      "execution_count": 68,
      "outputs": [
        {
          "output_type": "display_data",
          "data": {
            "text/plain": [
              "<Figure size 640x480 with 1 Axes>"
            ],
            "image/png": "[encoded data removed]"
          },
          "metadata": {}
        }
      ]
    },
    {
      "cell_type": "markdown",
      "source": [
        "ВИСНОВКИ\n",
        "\n",
        "Якщо лінійна регресія дає добрі результати на тестовому наборі та коефіцієнти виглядають логічними, то модель може бути вважена ефективною для даного завдання.\n",
        "Аналітичне рішення слугує важливим інструментом для порівняння та перевірки результатів, але його застосування може бути обмеженим для складних моделей та великих обсягів даних.\n",
        "Загалом, ефективність лінійної регресії визначається співвідношенням між моделлю та характером даних. Порівняння з аналітичним рішенням може допомогти в оцінці стабільності та точності моделі."
      ],
      "metadata": {
        "id": "R4MTY4F76d3m"
      }
    }
  ],
  "metadata": {
    "colab": {
      "name": "Вітаємо в Colaboratory",
      "provenance": [],
      "include_colab_link": true
    },
    "kernelspec": {
      "display_name": "Python 3",
      "name": "python3"
    }
  },
  "nbformat": 4,
  "nbformat_minor": 0
}